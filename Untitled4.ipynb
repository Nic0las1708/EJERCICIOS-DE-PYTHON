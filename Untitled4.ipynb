{
  "nbformat": 4,
  "nbformat_minor": 0,
  "metadata": {
    "colab": {
      "provenance": [],
      "authorship_tag": "ABX9TyOwIF9XfqVllhFUuA7b/jRl",
      "include_colab_link": true
    },
    "kernelspec": {
      "name": "python3",
      "display_name": "Python 3"
    },
    "language_info": {
      "name": "python"
    }
  },
  "cells": [
    {
      "cell_type": "markdown",
      "metadata": {
        "id": "view-in-github",
        "colab_type": "text"
      },
      "source": [
        "<a href=\"https://colab.research.google.com/github/Nic0las1708/EJERCICIOS-DE-PYTHON/blob/main/Untitled4.ipynb\" target=\"_parent\"><img src=\"https://colab.research.google.com/assets/colab-badge.svg\" alt=\"Open In Colab\"/></a>"
      ]
    },
    {
      "cell_type": "markdown",
      "source": [
        "MODULO EJERCICIOS RESULETOS 2:"
      ],
      "metadata": {
        "id": "z548jAqjFAf9"
      }
    },
    {
      "cell_type": "markdown",
      "source": [
        "Ejercio 1"
      ],
      "metadata": {
        "id": "djcj2D4SEo33"
      }
    },
    {
      "cell_type": "code",
      "source": [
        "alien_color = input(\"ingrese el color del alien:\")\n",
        "\n",
        "if alien_color.lower() == \"verde\":\n",
        "  print(\"el jugador obtuvo 5 puntos\")"
      ],
      "metadata": {
        "id": "fjJTBFaGEoMI"
      },
      "execution_count": null,
      "outputs": []
    },
    {
      "cell_type": "markdown",
      "source": [
        "Ejercicio 2:"
      ],
      "metadata": {
        "id": "5Kxy_fe1YlG4"
      }
    },
    {
      "cell_type": "code",
      "source": [
        "alien_color = input(\"ingrese el color del alien:\")\n",
        "\n",
        "if alien_color.lower() == \"verde\":\n",
        "  print(\"el jugador obtuvo 5 puntos\")\n",
        "\n",
        "elif alien_color.lower() == \"amarillo\":\n",
        "  print(\"acabas de ganar 15 puntos\")\n",
        "\n",
        "elif alien_color.lower() == \"rojo\":\n",
        "  print(\"acabas de perder 5 puntos\")"
      ],
      "metadata": {
        "id": "K1w9z5SHYp4Y"
      },
      "execution_count": null,
      "outputs": []
    },
    {
      "cell_type": "markdown",
      "source": [
        "Ejercicio 1:"
      ],
      "metadata": {
        "id": "YscMs2j7Mrdt"
      }
    },
    {
      "cell_type": "code",
      "source": [
        "prompt = \"\\nIngrese un ingrediente para su pizza: \"\n",
        "prompt += \"\\nEscribe 'salir' para finalizar. \"\n",
        "\n",
        "message = \"\"\n",
        "while message != 'salir':\n",
        "  message = input(prompt)\n",
        "  print(f\"Su ingrediente {message} ha sido agregado\")"
      ],
      "metadata": {
        "id": "4Ed122JuaMJS",
        "outputId": "69409f75-fe14-46ac-9661-c6216fae6937",
        "colab": {
          "base_uri": "https://localhost:8080/"
        }
      },
      "execution_count": null,
      "outputs": [
        {
          "name": "stdout",
          "output_type": "stream",
          "text": [
            "\n",
            "Ingrese un ingrediente para su pizza: \n",
            "Escribe 'salir' para finalizar. peperoni\n",
            "Su ingrediente peperoni ha sido agregado\n",
            "\n",
            "Ingrese un ingrediente para su pizza: \n",
            "Escribe 'salir' para finalizar. salir\n"
          ]
        }
      ]
    },
    {
      "cell_type": "markdown",
      "source": [
        "Ejercicio 2:"
      ],
      "metadata": {
        "id": "PMWzIVfnFD68"
      }
    },
    {
      "cell_type": "code",
      "source": [
        "edad = int(input(\"digame su edad: \"))\n",
        "\n",
        "if edad < 3:\n",
        "  print(\"Su entrada es gratuita\")\n",
        "elif edad <= 12:\n",
        "  print(\"su entrada cuesta s/.10\")\n",
        "elif edad > 12 :\n",
        "  print(\"Su entrada cuesta s/.15\")\n"
      ],
      "metadata": {
        "id": "dqHFpsecFDWM",
        "outputId": "6160aa5f-e2e3-4f0b-a1a7-c17059fbb505",
        "colab": {
          "base_uri": "https://localhost:8080/"
        }
      },
      "execution_count": 41,
      "outputs": [
        {
          "output_type": "stream",
          "name": "stdout",
          "text": [
            "digame su edad: 16\n",
            "Su entrada cuesta s/.15\n"
          ]
        }
      ]
    }
  ]
}