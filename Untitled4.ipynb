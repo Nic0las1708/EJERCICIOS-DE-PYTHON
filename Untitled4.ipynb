{
  "nbformat": 4,
  "nbformat_minor": 0,
  "metadata": {
    "colab": {
      "provenance": [],
      "authorship_tag": "ABX9TyOKOQ0ddZLeaiOc5BCv7P11",
      "include_colab_link": true
    },
    "kernelspec": {
      "name": "python3",
      "display_name": "Python 3"
    },
    "language_info": {
      "name": "python"
    }
  },
  "cells": [
    {
      "cell_type": "markdown",
      "metadata": {
        "id": "view-in-github",
        "colab_type": "text"
      },
      "source": [
        "<a href=\"https://colab.research.google.com/github/Nic0las1708/EJERCICIOS-DE-PYTHON/blob/main/Untitled4.ipynb\" target=\"_parent\"><img src=\"https://colab.research.google.com/assets/colab-badge.svg\" alt=\"Open In Colab\"/></a>"
      ]
    },
    {
      "cell_type": "markdown",
      "source": [
        "MODULO EJERCICIOS RESULETOS 2:"
      ],
      "metadata": {
        "id": "z548jAqjFAf9"
      }
    },
    {
      "cell_type": "markdown",
      "source": [
        "Ejercio 1:\n",
        "Imagina que un extraterrestre acaba de ser derribado en un juego. Cree una variable llamada alien_color y asígnele un valor de 'verde', 'amarillo' o 'rojo'.\n",
        "\n",
        "Escribe una declaración if para probar si el color del extraterrestre es verde. Si es así, imprime un mensaje de que el jugador acaba de ganar 5 puntos."
      ],
      "metadata": {
        "id": "djcj2D4SEo33"
      }
    },
    {
      "cell_type": "code",
      "source": [
        "alien_color = [\"verde\", \"amarillo\", \"rojo\"]\n",
        "alien_color = input(\"ingrese el color del alien:\")\n",
        "\n",
        "if alien_color.lower() == \"verde\":\n",
        "  print(\"el jugador obtuvo 5 puntos\")"
      ],
      "metadata": {
        "id": "fjJTBFaGEoMI"
      },
      "execution_count": null,
      "outputs": []
    },
    {
      "cell_type": "markdown",
      "source": [
        "Ejercicio 2:\n",
        "Elija un color para un extraterrestre como lo hizo en el Ejercicio anterior y escriba una cadena if-else.\n",
        "\n",
        "Si el alienígena es verde, imprime un mensaje de que el jugador obtuvo 5 puntos. Si el alienígena es amarillo, imprime un mensaje de que el jugador obtuvo 10 puntos. Si el alienígena es rojo, imprime un mensaje de que el jugador obtuvo 15 puntos."
      ],
      "metadata": {
        "id": "5Kxy_fe1YlG4"
      }
    },
    {
      "cell_type": "code",
      "source": [
        "alien_color = [\"verde\", \"amarillo\", \"rojo\"]\n",
        "alien_color = input(\"ingrese el color del alien:\")\n",
        "\n",
        "if alien_color.lower() == \"verde\":\n",
        "  print(\"el jugador obtuvo 5 puntos\")\n",
        "\n",
        "elif alien_color.lower() == \"amarillo\":\n",
        "  print(\"acabas de ganar 15 puntos\")\n",
        "\n",
        "elif alien_color.lower() == \"rojo\":\n",
        "  print(\"acabas de perder 5 puntos\")"
      ],
      "metadata": {
        "id": "K1w9z5SHYp4Y"
      },
      "execution_count": null,
      "outputs": []
    },
    {
      "cell_type": "markdown",
      "source": [
        "Ejercicio 1: Escriba un ciclo que solicite al usuario que ingrese una serie de ingredientes para la pizza hasta que ingrese un valor de 'salir'. A medida que ingresen cada ingrediente, imprima un mensaje que diga que agregará ese ingrediente a su pizza."
      ],
      "metadata": {
        "id": "YscMs2j7Mrdt"
      }
    },
    {
      "cell_type": "code",
      "source": [
        "prompt = \"\\nIngrese un ingrediente para su pizza: \"\n",
        "prompt += \"\\nEscribe 'salir' para finalizar. \"\n",
        "\n",
        "message = \"\"\n",
        "while message != 'salir':\n",
        "  message = input(prompt)\n",
        "  print(f\"Su ingrediente {message} ha sido agregado\")"
      ],
      "metadata": {
        "id": "4Ed122JuaMJS",
        "outputId": "69409f75-fe14-46ac-9661-c6216fae6937",
        "colab": {
          "base_uri": "https://localhost:8080/"
        }
      },
      "execution_count": null,
      "outputs": [
        {
          "name": "stdout",
          "output_type": "stream",
          "text": [
            "\n",
            "Ingrese un ingrediente para su pizza: \n",
            "Escribe 'salir' para finalizar. peperoni\n",
            "Su ingrediente peperoni ha sido agregado\n",
            "\n",
            "Ingrese un ingrediente para su pizza: \n",
            "Escribe 'salir' para finalizar. salir\n"
          ]
        }
      ]
    },
    {
      "cell_type": "markdown",
      "source": [
        "Ejercicio 2:\n",
        "Un cine cobra diferentes precios de boletos dependiendo de la edad de una persona. Si una persona es menor de 3 años, la entrada es gratuita; si son entre 3 y 12, el boleto cuesta s/. 10; y si son mayores de 12 años, el boleto cuesta s/. 15. Escriba un ciclo en el que pregunte a los usuarios su edad y luego dígales el costo de su boleto de cine."
      ],
      "metadata": {
        "id": "PMWzIVfnFD68"
      }
    },
    {
      "cell_type": "code",
      "source": [
        "edad = int(input(\"digame su edad: \"))\n",
        "\n",
        "if edad < 3:\n",
        "  print(\"Su entrada es gratuita\")\n",
        "elif edad <= 12:\n",
        "  print(\"su entrada cuesta s/.10\")\n",
        "elif edad > 12 :\n",
        "  print(\"Su entrada cuesta s/.15\")\n"
      ],
      "metadata": {
        "id": "dqHFpsecFDWM",
        "outputId": "6160aa5f-e2e3-4f0b-a1a7-c17059fbb505",
        "colab": {
          "base_uri": "https://localhost:8080/"
        }
      },
      "execution_count": null,
      "outputs": [
        {
          "output_type": "stream",
          "name": "stdout",
          "text": [
            "digame su edad: 16\n",
            "Su entrada cuesta s/.15\n"
          ]
        }
      ]
    },
    {
      "cell_type": "markdown",
      "source": [
        "<b> Ejercicio 1</b>\n",
        "\n",
        "\n",
        "Piensa en al menos tres tipos de tu pizza favorita. Almacene estos nombres de pizza en una lista y luego use un ciclo for para imprimir el nombre de cada pizza.\n",
        "\n",
        "Modifique su ciclo for para imprimir una oración usando el nombre de la pizza en lugar de imprimir solo el nombre de la pizza. Para cada pizza, debe tener una línea de salida que contenga una declaración simple como Me gusta la pizza de pepperoni.\n",
        "Agregue una línea al final de su programa, fuera del bucle for, que indique cuánto le gusta la pizza. El resultado debe constar de tres o más líneas sobre los tipos de pizza que te gustan y luego una oración adicional, como ¡Me encanta la pizza!\n"
      ],
      "metadata": {
        "id": "UC8ClTbKvVg9"
      }
    },
    {
      "cell_type": "code",
      "source": [],
      "metadata": {
        "id": "BHwyTsl3zX0F"
      },
      "execution_count": null,
      "outputs": []
    }
  ]
}